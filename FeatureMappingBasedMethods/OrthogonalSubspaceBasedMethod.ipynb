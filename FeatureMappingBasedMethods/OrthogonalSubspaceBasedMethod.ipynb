{
 "cells": [
  {
   "cell_type": "markdown",
   "id": "020adfa0",
   "metadata": {},
   "source": [
    "Orthogonal subspace-based methods are machine learning techniques that involve finding a low-dimensional subspace of the data that is orthogonal (perpendicular) to the other dimensions. These methods are useful for extracting features from the data that are independent of each other, which can be useful for tasks such as classification and clustering.\n",
    "\n",
    "One example of an orthogonal subspace-based method is principal component analysis (PCA). PCA is a linear dimensionality reduction technique that projects the data onto a lower-dimensional space by maximizing the variance of the data along the new axes. It is commonly used for visualizing high-dimensional data and for reducing the dimensionality of the data for machine learning algorithms."
   ]
  },
  {
   "cell_type": "code",
   "execution_count": 6,
   "id": "ceb5eeef",
   "metadata": {},
   "outputs": [],
   "source": [
    "from sklearn.decomposition import PCA\n",
    "import numpy as np"
   ]
  },
  {
   "cell_type": "code",
   "execution_count": 7,
   "id": "84239125",
   "metadata": {},
   "outputs": [
    {
     "data": {
      "text/plain": [
       "(3, 2)"
      ]
     },
     "execution_count": 7,
     "metadata": {},
     "output_type": "execute_result"
    }
   ],
   "source": [
    "# Create an example feature matrix\n",
    "X = np.array([[1, 2], [3, 4], [5, 6]])\n",
    "X.shape"
   ]
  },
  {
   "cell_type": "code",
   "execution_count": 8,
   "id": "8cbc16cb",
   "metadata": {},
   "outputs": [],
   "source": [
    "# Set the number of dimensions for the reduced representation\n",
    "n_components = 1\n",
    "\n",
    "# Create the PCA transformer\n",
    "pca = PCA(n_components=n_components)\n",
    "\n",
    "# Transform the data to the reduced representation\n",
    "X_reduced = pca.fit_transform(X)"
   ]
  },
  {
   "cell_type": "code",
   "execution_count": 9,
   "id": "338263c6",
   "metadata": {},
   "outputs": [
    {
     "data": {
      "text/plain": [
       "(3, 1)"
      ]
     },
     "execution_count": 9,
     "metadata": {},
     "output_type": "execute_result"
    }
   ],
   "source": [
    "X_reduced.shape"
   ]
  }
 ],
 "metadata": {
  "kernelspec": {
   "display_name": "Python 3 (ipykernel)",
   "language": "python",
   "name": "python3"
  },
  "language_info": {
   "codemirror_mode": {
    "name": "ipython",
    "version": 3
   },
   "file_extension": ".py",
   "mimetype": "text/x-python",
   "name": "python",
   "nbconvert_exporter": "python",
   "pygments_lexer": "ipython3",
   "version": "3.9.12"
  }
 },
 "nbformat": 4,
 "nbformat_minor": 5
}
