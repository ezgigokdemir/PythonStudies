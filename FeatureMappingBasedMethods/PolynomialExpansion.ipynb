{
 "cells": [
  {
   "cell_type": "markdown",
   "id": "c6324fb6",
   "metadata": {},
   "source": [
    "Creating new features by raising existing features to higher powers. For example, if a dataset includes a feature x, polynomial expansion could create new features x^2, x^3, and so on."
   ]
  },
  {
   "cell_type": "code",
   "execution_count": 16,
   "id": "765fb5aa",
   "metadata": {},
   "outputs": [],
   "source": [
    "from sklearn.preprocessing import PolynomialFeatures\n",
    "import numpy as np"
   ]
  },
  {
   "cell_type": "code",
   "execution_count": 24,
   "id": "e987f436",
   "metadata": {},
   "outputs": [],
   "source": [
    "# Feature matrix with 2 features\n",
    "X = np.array([[1, 2], [3, 7], [11, 5]])"
   ]
  },
  {
   "cell_type": "code",
   "execution_count": 25,
   "id": "a5a5f942",
   "metadata": {},
   "outputs": [],
   "source": [
    "# Degree of the polynomial expansion\n",
    "degree = 3"
   ]
  },
  {
   "cell_type": "code",
   "execution_count": 26,
   "id": "0c2ff451",
   "metadata": {},
   "outputs": [],
   "source": [
    "# Create the polynomial expansion transformer\n",
    "poly = PolynomialFeatures(degree=degree, include_bias=False)"
   ]
  },
  {
   "cell_type": "code",
   "execution_count": 27,
   "id": "3f2b9674",
   "metadata": {},
   "outputs": [],
   "source": [
    "# Transform the feature matrix\n",
    "X_poly = poly.fit_transform(X)"
   ]
  },
  {
   "cell_type": "code",
   "execution_count": 28,
   "id": "5b71aaa8",
   "metadata": {},
   "outputs": [
    {
     "data": {
      "text/plain": [
       "(3, 2)"
      ]
     },
     "execution_count": 28,
     "metadata": {},
     "output_type": "execute_result"
    }
   ],
   "source": [
    "X.shape"
   ]
  },
  {
   "cell_type": "code",
   "execution_count": 29,
   "id": "865710c9",
   "metadata": {},
   "outputs": [
    {
     "data": {
      "text/plain": [
       "(3, 9)"
      ]
     },
     "execution_count": 29,
     "metadata": {},
     "output_type": "execute_result"
    }
   ],
   "source": [
    "X_poly.shape"
   ]
  },
  {
   "cell_type": "code",
   "execution_count": 30,
   "id": "3e5629d0",
   "metadata": {},
   "outputs": [
    {
     "name": "stdout",
     "output_type": "stream",
     "text": [
      "[[1.000e+00 2.000e+00 1.000e+00 2.000e+00 4.000e+00 1.000e+00 2.000e+00\n",
      "  4.000e+00 8.000e+00]\n",
      " [3.000e+00 7.000e+00 9.000e+00 2.100e+01 4.900e+01 2.700e+01 6.300e+01\n",
      "  1.470e+02 3.430e+02]\n",
      " [1.100e+01 5.000e+00 1.210e+02 5.500e+01 2.500e+01 1.331e+03 6.050e+02\n",
      "  2.750e+02 1.250e+02]]\n"
     ]
    }
   ],
   "source": [
    "print(X_poly)"
   ]
  }
 ],
 "metadata": {
  "kernelspec": {
   "display_name": "Python 3 (ipykernel)",
   "language": "python",
   "name": "python3"
  },
  "language_info": {
   "codemirror_mode": {
    "name": "ipython",
    "version": 3
   },
   "file_extension": ".py",
   "mimetype": "text/x-python",
   "name": "python",
   "nbconvert_exporter": "python",
   "pygments_lexer": "ipython3",
   "version": "3.9.12"
  }
 },
 "nbformat": 4,
 "nbformat_minor": 5
}
