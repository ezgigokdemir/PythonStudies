{
 "cells": [
  {
   "cell_type": "markdown",
   "id": "ff3e6b3c",
   "metadata": {},
   "source": [
    "Creating new features that represent the interaction between two or more existing features. For example, if a dataset includes features x and y, an interaction term could be created as x * y"
   ]
  },
  {
   "cell_type": "code",
   "execution_count": 1,
   "id": "04295526",
   "metadata": {},
   "outputs": [],
   "source": [
    "import numpy as np"
   ]
  },
  {
   "cell_type": "code",
   "execution_count": 2,
   "id": "14777894",
   "metadata": {},
   "outputs": [],
   "source": [
    "# Feature matrix with 2 features\n",
    "X = np.array([[1, 2], [3, 4], [5, 6]])"
   ]
  },
  {
   "cell_type": "code",
   "execution_count": 3,
   "id": "a4be4966",
   "metadata": {},
   "outputs": [
    {
     "data": {
      "text/plain": [
       "(3, 2)"
      ]
     },
     "execution_count": 3,
     "metadata": {},
     "output_type": "execute_result"
    }
   ],
   "source": [
    "X.shape"
   ]
  },
  {
   "cell_type": "code",
   "execution_count": 4,
   "id": "b588512d",
   "metadata": {},
   "outputs": [],
   "source": [
    "# Create an interaction term by multiplying the two features together\n",
    "X_interaction = X[:, 0] * X[:, 1]"
   ]
  },
  {
   "cell_type": "code",
   "execution_count": 5,
   "id": "97c3c579",
   "metadata": {},
   "outputs": [],
   "source": [
    "# Add the interaction term to the original feature matrix\n",
    "X_with_interaction = np.column_stack((X, X_interaction))"
   ]
  },
  {
   "cell_type": "code",
   "execution_count": 6,
   "id": "0b9bfbd3",
   "metadata": {},
   "outputs": [
    {
     "data": {
      "text/plain": [
       "(3, 3)"
      ]
     },
     "execution_count": 6,
     "metadata": {},
     "output_type": "execute_result"
    }
   ],
   "source": [
    "X_with_interaction.shape"
   ]
  },
  {
   "cell_type": "code",
   "execution_count": 7,
   "id": "75afed5b",
   "metadata": {},
   "outputs": [
    {
     "name": "stdout",
     "output_type": "stream",
     "text": [
      "[[ 1  2  2]\n",
      " [ 3  4 12]\n",
      " [ 5  6 30]]\n"
     ]
    }
   ],
   "source": [
    "# Print the expanded feature matrix\n",
    "print(X_with_interaction)"
   ]
  }
 ],
 "metadata": {
  "kernelspec": {
   "display_name": "Python 3 (ipykernel)",
   "language": "python",
   "name": "python3"
  },
  "language_info": {
   "codemirror_mode": {
    "name": "ipython",
    "version": 3
   },
   "file_extension": ".py",
   "mimetype": "text/x-python",
   "name": "python",
   "nbconvert_exporter": "python",
   "pygments_lexer": "ipython3",
   "version": "3.9.12"
  }
 },
 "nbformat": 4,
 "nbformat_minor": 5
}
