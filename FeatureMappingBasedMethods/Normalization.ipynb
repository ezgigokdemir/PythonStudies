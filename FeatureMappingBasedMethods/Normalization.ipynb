{
 "cells": [
  {
   "cell_type": "markdown",
   "id": "253de08d",
   "metadata": {},
   "source": [
    "Scaling features so that they have a mean of zero and a standard deviation of one. This can be helpful for algorithms that are sensitive to the scale of the input features."
   ]
  },
  {
   "cell_type": "code",
   "execution_count": 2,
   "id": "327f5a99",
   "metadata": {},
   "outputs": [
    {
     "name": "stdout",
     "output_type": "stream",
     "text": [
      "[[-1.22474487 -1.22474487]\n",
      " [ 0.          0.        ]\n",
      " [ 1.22474487  1.22474487]]\n"
     ]
    }
   ],
   "source": [
    "from sklearn.preprocessing import StandardScaler\n",
    "import numpy as np\n",
    "\n",
    "# Feature matrix\n",
    "X = np.array([[1, 2], [3, 4], [5, 6]])\n",
    "\n",
    "# Normalization transformer\n",
    "scaler = StandardScaler()\n",
    "\n",
    "# Normalize the feature matrix\n",
    "X_norm = scaler.fit_transform(X)\n",
    "\n",
    "# Print the normalized feature matrix\n",
    "print(X_norm)"
   ]
  },
  {
   "cell_type": "markdown",
   "id": "35b03059",
   "metadata": {},
   "source": [
    "The StandardScaler class standardizes the features by subtracting the mean and dividing by the standard deviation. "
   ]
  }
 ],
 "metadata": {
  "kernelspec": {
   "display_name": "Python 3 (ipykernel)",
   "language": "python",
   "name": "python3"
  },
  "language_info": {
   "codemirror_mode": {
    "name": "ipython",
    "version": 3
   },
   "file_extension": ".py",
   "mimetype": "text/x-python",
   "name": "python",
   "nbconvert_exporter": "python",
   "pygments_lexer": "ipython3",
   "version": "3.9.12"
  }
 },
 "nbformat": 4,
 "nbformat_minor": 5
}
