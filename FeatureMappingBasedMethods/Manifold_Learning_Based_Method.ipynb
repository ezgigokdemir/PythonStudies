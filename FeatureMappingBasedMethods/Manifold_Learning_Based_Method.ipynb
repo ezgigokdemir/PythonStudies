{
 "cells": [
  {
   "cell_type": "markdown",
   "id": "77a974e8",
   "metadata": {},
   "source": [
    "Manifold learning is a machine learning technique that involves projecting high-dimensional data onto a lower-dimensional manifold, or surface, in such a way that the relationships between the data points are preserved as much as possible. The goal of manifold learning is to represent the underlying structure of the data in a more interpretable and efficient way."
   ]
  },
  {
   "cell_type": "code",
   "execution_count": 4,
   "id": "a6211edc",
   "metadata": {},
   "outputs": [],
   "source": [
    "from sklearn.manifold import Isomap\n",
    "import numpy as np"
   ]
  },
  {
   "cell_type": "code",
   "execution_count": 5,
   "id": "1499bd5e",
   "metadata": {},
   "outputs": [
    {
     "data": {
      "text/plain": [
       "(3, 2)"
      ]
     },
     "execution_count": 5,
     "metadata": {},
     "output_type": "execute_result"
    }
   ],
   "source": [
    "# Create an example feature matrix\n",
    "X = np.array([[1, 2], [3, 4], [5, 6]])\n",
    "X.shape"
   ]
  },
  {
   "cell_type": "code",
   "execution_count": 6,
   "id": "845a3f02",
   "metadata": {},
   "outputs": [],
   "source": [
    "# Set the number of dimensions for the reduced representation\n",
    "n_components = 1\n",
    "\n",
    "# Set the number of neighbors to use (must be less than or equal to the number of samples)\n",
    "n_neighbors = 2\n",
    "\n",
    "# Create the Isomap transformer\n",
    "isomap = Isomap(n_components=n_components, n_neighbors=n_neighbors)\n",
    "\n",
    "# Transform the data to the reduced representation\n",
    "X_reduced = isomap.fit_transform(X)"
   ]
  },
  {
   "cell_type": "code",
   "execution_count": 7,
   "id": "9a911d98",
   "metadata": {},
   "outputs": [
    {
     "name": "stdout",
     "output_type": "stream",
     "text": [
      "(3, 1)\n"
     ]
    }
   ],
   "source": [
    "# Print the shape of the reduced data\n",
    "print(X_reduced.shape)"
   ]
  }
 ],
 "metadata": {
  "kernelspec": {
   "display_name": "Python 3 (ipykernel)",
   "language": "python",
   "name": "python3"
  },
  "language_info": {
   "codemirror_mode": {
    "name": "ipython",
    "version": 3
   },
   "file_extension": ".py",
   "mimetype": "text/x-python",
   "name": "python",
   "nbconvert_exporter": "python",
   "pygments_lexer": "ipython3",
   "version": "3.9.12"
  }
 },
 "nbformat": 4,
 "nbformat_minor": 5
}
